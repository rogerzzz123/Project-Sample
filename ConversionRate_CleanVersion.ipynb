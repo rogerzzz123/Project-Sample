{
 "cells": [
  {
   "cell_type": "markdown",
   "id": "7a101443-f625-4dca-ac42-79a417653bbf",
   "metadata": {},
   "source": [
    "# Conversion Rate Analysis and Prediction\n",
    "## Author: Ning Zhang\n",
    "## Date: June 16, 2021\n",
    "\n",
    "### Background: \n",
    "The data was given is a conversion or not user-level data. \n",
    "\n",
    "### Goal of the task:\n",
    "- Predict conversion rate\n",
    "- Come up with recommendations for the product team and the marketing team to improve conversion rate"
   ]
  },
  {
   "cell_type": "code",
   "execution_count": 76,
   "id": "89308964-12d9-4e1d-8fb8-dcf50b505387",
   "metadata": {},
   "outputs": [],
   "source": [
    "import pandas as pd\n",
    "import numpy as np\n",
    "import seaborn as sns\n",
    "import matplotlib.pyplot as plt\n",
    "import h2o\n",
    "from h2o.frame import H2OFrame\n",
    "from h2o.estimators.random_forest import H2ORandomForestEstimator\n",
    "from h2o.grid.grid_search import H2OGridSearch\n",
    "from sklearn.metrics import auc, roc_curve, classification_report\n",
    "from sklearn.model_selection import train_test_split\n",
    "from sklearn.ensemble import RandomForestClassifier\n",
    "from sklearn.metrics import confusion_matrix, classification_report\n",
    "from sklearn.metrics import roc_auc_score\n",
    "from sklearn.linear_model import LogisticRegression"
   ]
  },
  {
   "cell_type": "code",
   "execution_count": 2,
   "id": "a207c74d-6e09-4e7b-b6a7-cff6a2544b1f",
   "metadata": {},
   "outputs": [
    {
     "data": {
      "text/html": [
       "<div>\n",
       "<style scoped>\n",
       "    .dataframe tbody tr th:only-of-type {\n",
       "        vertical-align: middle;\n",
       "    }\n",
       "\n",
       "    .dataframe tbody tr th {\n",
       "        vertical-align: top;\n",
       "    }\n",
       "\n",
       "    .dataframe thead th {\n",
       "        text-align: right;\n",
       "    }\n",
       "</style>\n",
       "<table border=\"1\" class=\"dataframe\">\n",
       "  <thead>\n",
       "    <tr style=\"text-align: right;\">\n",
       "      <th></th>\n",
       "      <th>country</th>\n",
       "      <th>age</th>\n",
       "      <th>new_user</th>\n",
       "      <th>source</th>\n",
       "      <th>total_pages_visited</th>\n",
       "      <th>converted</th>\n",
       "    </tr>\n",
       "  </thead>\n",
       "  <tbody>\n",
       "    <tr>\n",
       "      <th>0</th>\n",
       "      <td>UK</td>\n",
       "      <td>25</td>\n",
       "      <td>1</td>\n",
       "      <td>Ads</td>\n",
       "      <td>1</td>\n",
       "      <td>0</td>\n",
       "    </tr>\n",
       "    <tr>\n",
       "      <th>1</th>\n",
       "      <td>US</td>\n",
       "      <td>23</td>\n",
       "      <td>1</td>\n",
       "      <td>Seo</td>\n",
       "      <td>5</td>\n",
       "      <td>0</td>\n",
       "    </tr>\n",
       "    <tr>\n",
       "      <th>2</th>\n",
       "      <td>US</td>\n",
       "      <td>28</td>\n",
       "      <td>1</td>\n",
       "      <td>Seo</td>\n",
       "      <td>4</td>\n",
       "      <td>0</td>\n",
       "    </tr>\n",
       "    <tr>\n",
       "      <th>3</th>\n",
       "      <td>China</td>\n",
       "      <td>39</td>\n",
       "      <td>1</td>\n",
       "      <td>Seo</td>\n",
       "      <td>5</td>\n",
       "      <td>0</td>\n",
       "    </tr>\n",
       "    <tr>\n",
       "      <th>4</th>\n",
       "      <td>US</td>\n",
       "      <td>30</td>\n",
       "      <td>1</td>\n",
       "      <td>Seo</td>\n",
       "      <td>6</td>\n",
       "      <td>0</td>\n",
       "    </tr>\n",
       "  </tbody>\n",
       "</table>\n",
       "</div>"
      ],
      "text/plain": [
       "  country  age  new_user source  total_pages_visited  converted\n",
       "0      UK   25         1    Ads                    1          0\n",
       "1      US   23         1    Seo                    5          0\n",
       "2      US   28         1    Seo                    4          0\n",
       "3   China   39         1    Seo                    5          0\n",
       "4      US   30         1    Seo                    6          0"
      ]
     },
     "execution_count": 2,
     "metadata": {},
     "output_type": "execute_result"
    }
   ],
   "source": [
    "### Part I: Read and Observe the data\n",
    "df = pd.read_csv('conversion_project.csv')\n",
    "df.head()"
   ]
  },
  {
   "cell_type": "code",
   "execution_count": 3,
   "id": "cdfd35d1-aa66-4044-8197-9e758a8414fe",
   "metadata": {},
   "outputs": [
    {
     "data": {
      "text/html": [
       "<div>\n",
       "<style scoped>\n",
       "    .dataframe tbody tr th:only-of-type {\n",
       "        vertical-align: middle;\n",
       "    }\n",
       "\n",
       "    .dataframe tbody tr th {\n",
       "        vertical-align: top;\n",
       "    }\n",
       "\n",
       "    .dataframe thead th {\n",
       "        text-align: right;\n",
       "    }\n",
       "</style>\n",
       "<table border=\"1\" class=\"dataframe\">\n",
       "  <thead>\n",
       "    <tr style=\"text-align: right;\">\n",
       "      <th></th>\n",
       "      <th>age</th>\n",
       "      <th>new_user</th>\n",
       "      <th>total_pages_visited</th>\n",
       "      <th>converted</th>\n",
       "    </tr>\n",
       "  </thead>\n",
       "  <tbody>\n",
       "    <tr>\n",
       "      <th>count</th>\n",
       "      <td>316200.000000</td>\n",
       "      <td>316200.000000</td>\n",
       "      <td>316200.000000</td>\n",
       "      <td>316200.000000</td>\n",
       "    </tr>\n",
       "    <tr>\n",
       "      <th>mean</th>\n",
       "      <td>30.569858</td>\n",
       "      <td>0.685465</td>\n",
       "      <td>4.872966</td>\n",
       "      <td>0.032258</td>\n",
       "    </tr>\n",
       "    <tr>\n",
       "      <th>std</th>\n",
       "      <td>8.271802</td>\n",
       "      <td>0.464331</td>\n",
       "      <td>3.341104</td>\n",
       "      <td>0.176685</td>\n",
       "    </tr>\n",
       "    <tr>\n",
       "      <th>min</th>\n",
       "      <td>17.000000</td>\n",
       "      <td>0.000000</td>\n",
       "      <td>1.000000</td>\n",
       "      <td>0.000000</td>\n",
       "    </tr>\n",
       "    <tr>\n",
       "      <th>25%</th>\n",
       "      <td>24.000000</td>\n",
       "      <td>0.000000</td>\n",
       "      <td>2.000000</td>\n",
       "      <td>0.000000</td>\n",
       "    </tr>\n",
       "    <tr>\n",
       "      <th>50%</th>\n",
       "      <td>30.000000</td>\n",
       "      <td>1.000000</td>\n",
       "      <td>4.000000</td>\n",
       "      <td>0.000000</td>\n",
       "    </tr>\n",
       "    <tr>\n",
       "      <th>75%</th>\n",
       "      <td>36.000000</td>\n",
       "      <td>1.000000</td>\n",
       "      <td>7.000000</td>\n",
       "      <td>0.000000</td>\n",
       "    </tr>\n",
       "    <tr>\n",
       "      <th>max</th>\n",
       "      <td>123.000000</td>\n",
       "      <td>1.000000</td>\n",
       "      <td>29.000000</td>\n",
       "      <td>1.000000</td>\n",
       "    </tr>\n",
       "  </tbody>\n",
       "</table>\n",
       "</div>"
      ],
      "text/plain": [
       "                 age       new_user  total_pages_visited      converted\n",
       "count  316200.000000  316200.000000        316200.000000  316200.000000\n",
       "mean       30.569858       0.685465             4.872966       0.032258\n",
       "std         8.271802       0.464331             3.341104       0.176685\n",
       "min        17.000000       0.000000             1.000000       0.000000\n",
       "25%        24.000000       0.000000             2.000000       0.000000\n",
       "50%        30.000000       1.000000             4.000000       0.000000\n",
       "75%        36.000000       1.000000             7.000000       0.000000\n",
       "max       123.000000       1.000000            29.000000       1.000000"
      ]
     },
     "execution_count": 3,
     "metadata": {},
     "output_type": "execute_result"
    }
   ],
   "source": [
    "# check the description and column type\n",
    "df.describe()"
   ]
  },
  {
   "cell_type": "code",
   "execution_count": 4,
   "id": "7b7441c1-3e50-45d9-9621-bc29925fa51a",
   "metadata": {},
   "outputs": [
    {
     "name": "stdout",
     "output_type": "stream",
     "text": [
      "<class 'pandas.core.frame.DataFrame'>\n",
      "RangeIndex: 316200 entries, 0 to 316199\n",
      "Data columns (total 6 columns):\n",
      " #   Column               Non-Null Count   Dtype \n",
      "---  ------               --------------   ----- \n",
      " 0   country              316200 non-null  object\n",
      " 1   age                  316200 non-null  int64 \n",
      " 2   new_user             316200 non-null  int64 \n",
      " 3   source               316200 non-null  object\n",
      " 4   total_pages_visited  316200 non-null  int64 \n",
      " 5   converted            316200 non-null  int64 \n",
      "dtypes: int64(4), object(2)\n",
      "memory usage: 14.5+ MB\n"
     ]
    }
   ],
   "source": [
    "df.info()"
   ]
  },
  {
   "cell_type": "code",
   "execution_count": 5,
   "id": "0926da9b-fbf2-4028-a313-16ea32e51a99",
   "metadata": {},
   "outputs": [
    {
     "data": {
      "text/plain": [
       "country                0\n",
       "age                    0\n",
       "new_user               0\n",
       "source                 0\n",
       "total_pages_visited    0\n",
       "converted              0\n",
       "dtype: int64"
      ]
     },
     "execution_count": 5,
     "metadata": {},
     "output_type": "execute_result"
    }
   ],
   "source": [
    "# check whether any missing\n",
    "df.isnull().sum()"
   ]
  },
  {
   "cell_type": "markdown",
   "id": "979cdaec-d724-4e54-a263-4b8e77a57f2b",
   "metadata": {},
   "source": [
    "Key observation:\n",
    "- age has a max of 123, which seems to be an outlier\n",
    "- new user stands for 68% of entire population\n",
    "- mean conversion rate is 3%"
   ]
  },
  {
   "cell_type": "markdown",
   "id": "a4dd4002-d1f3-4897-8081-b599e36f6e99",
   "metadata": {},
   "source": [
    "### Part II: data processing and feature analysis"
   ]
  },
  {
   "cell_type": "code",
   "execution_count": 7,
   "id": "0813662e-db9a-4065-91a6-c2a4bb9f7dfe",
   "metadata": {},
   "outputs": [],
   "source": [
    "# remove age outliers.# typically users with age greater than 80 are very rare.Lets find out how many of them, and remove it\n",
    "df = df.loc[df.age<=80]\n",
    "# two records are removed."
   ]
  },
  {
   "cell_type": "code",
   "execution_count": 9,
   "id": "68d380b5-3c28-46ab-a026-650a1090e733",
   "metadata": {},
   "outputs": [
    {
     "data": {
      "image/png": "[encoded data removed]",
      "text/plain": [
       "<Figure size 864x288 with 2 Axes>"
      ]
     },
     "metadata": {
      "needs_background": "light"
     },
     "output_type": "display_data"
    }
   ],
   "source": [
    "# check conversion rate by country, using countplot and barplot here\n",
    "fig, ax = plt.subplots(nrows = 1, ncols = 2, figsize = (12,4))\n",
    "sns.countplot(x = 'country', hue = 'converted', data = df, ax = ax[0])\n",
    "ax[0].set_title('# converted by country')\n",
    "sns.barplot(x = 'country', y = 'converted', data = df, ax = ax[1])\n",
    "ax[1].set_title('Mean Conversion Rate Per Country')\n",
    "plt.show()"
   ]
  },
  {
   "cell_type": "markdown",
   "id": "9025d2fe-8f50-4c60-915d-b93c4768285e",
   "metadata": {},
   "source": [
    "Key observation:\n",
    "- China has a very low conversion rate\n",
    "- Germany has the highest conversion rate"
   ]
  },
  {
   "cell_type": "code",
   "execution_count": 11,
   "id": "ab0a2012-e4c4-482d-9276-0c71f5b4fdcd",
   "metadata": {},
   "outputs": [
    {
     "data": {
      "image/png": "[encoded data removed]",
      "text/plain": [
       "<Figure size 864x288 with 2 Axes>"
      ]
     },
     "metadata": {
      "needs_background": "light"
     },
     "output_type": "display_data"
    }
   ],
   "source": [
    "# check conversion rate by user type\n",
    "fig, ax = plt.subplots(nrows = 1, ncols = 2, figsize = (12,4))\n",
    "sns.countplot(x = 'new_user', hue = 'converted', data = df, ax = ax[0])\n",
    "ax[0].set_title('# converted by user')\n",
    "sns.barplot(x = 'new_user', y = 'converted', data = df, ax = ax[1])\n",
    "ax[1].set_title('Mean Conversion Rate Per user type')\n",
    "plt.show()"
   ]
  },
  {
   "cell_type": "markdown",
   "id": "1ea0cb5c-1574-4427-bace-8540956051fd",
   "metadata": {},
   "source": [
    "Key observation:\n",
    "- New user seems to have very low conversion rate"
   ]
  },
  {
   "cell_type": "code",
   "execution_count": 12,
   "id": "1f0e0765-a6d2-4a11-9830-ed7950b0fdb3",
   "metadata": {},
   "outputs": [
    {
     "data": {
      "image/png": "[encoded data removed]",
      "text/plain": [
       "<Figure size 864x288 with 2 Axes>"
      ]
     },
     "metadata": {
      "needs_background": "light"
     },
     "output_type": "display_data"
    }
   ],
   "source": [
    "# check conversion rate by source\n",
    "fig, ax = plt.subplots(nrows = 1, ncols = 2, figsize = (12,4))\n",
    "sns.countplot(x = 'source', hue = 'converted', data = df, ax = ax[0])\n",
    "ax[0].set_title('# converted by source')\n",
    "sns.barplot(x = 'source', y = 'converted', data = df, ax = ax[1])\n",
    "ax[1].set_title('Mean Conversion Rate Per source')\n",
    "plt.show()"
   ]
  },
  {
   "cell_type": "markdown",
   "id": "eff7f511-110b-4b5c-a540-c98ab897f75f",
   "metadata": {},
   "source": [
    "Key observation:\n",
    "- Not too big difference among different sources, while ads has the highest conversion rate"
   ]
  },
  {
   "cell_type": "code",
   "execution_count": 13,
   "id": "7fe62b03-0661-4f5f-98fe-05886b73875c",
   "metadata": {},
   "outputs": [
    {
     "name": "stderr",
     "output_type": "stream",
     "text": [
      "C:\\Users\\journ\\anaconda3\\lib\\site-packages\\seaborn\\distributions.py:2557: FutureWarning: `distplot` is a deprecated function and will be removed in a future version. Please adapt your code to use either `displot` (a figure-level function with similar flexibility) or `histplot` (an axes-level function for histograms).\n",
      "  warnings.warn(msg, FutureWarning)\n",
      "C:\\Users\\journ\\anaconda3\\lib\\site-packages\\seaborn\\distributions.py:2557: FutureWarning: `distplot` is a deprecated function and will be removed in a future version. Please adapt your code to use either `displot` (a figure-level function with similar flexibility) or `histplot` (an axes-level function for histograms).\n",
      "  warnings.warn(msg, FutureWarning)\n"
     ]
    },
    {
     "data": {
      "image/png": "[encoded data removed]",
      "text/plain": [
       "<Figure size 864x288 with 2 Axes>"
      ]
     },
     "metadata": {
      "needs_background": "light"
     },
     "output_type": "display_data"
    }
   ],
   "source": [
    "# check conversion rate by age\n",
    "con_age = df[['age','converted']].groupby('age').mean().reset_index()\n",
    "hist_kws = {'histtype':'bar', 'edgecolor':'black', 'alpha':0.2}\n",
    "fig, ax = plt.subplots(nrows=1, ncols = 2, figsize = (12,4))\n",
    "sns.distplot(df[df.converted==0]['age'],label = 'not converted', ax = ax[0], hist_kws = hist_kws)\n",
    "sns.distplot(df[df.converted==1]['age'],label = 'converted', ax = ax[0], hist_kws = hist_kws)\n",
    "ax[0].set_title('Age Distribution by Group', fontsize=16)\n",
    "ax[0].legend()\n",
    "\n",
    "ax[1].plot(con_age['age'], con_age['converted'],'.-')\n",
    "ax[1].set_title('Mean Conversion Rate vs Age', fontsize = 16)\n",
    "ax[1].set_xlabel('Age')\n",
    "ax[1].set_ylabel('Mean Conversion Rate')\n",
    "ax[1].grid(True)\n",
    "plt.show()"
   ]
  },
  {
   "cell_type": "markdown",
   "id": "e4519595-805b-4aa7-81cd-c75f1310fec3",
   "metadata": {},
   "source": [
    "Key observation:\n",
    "- in coverted group, the overall age is yonger than non-converted group. This may indicate that yonger age clients may have higher chance to get converted\n",
    "- The mean conversion rate decreases from age 20 to 55, but see a increase from age 55 - 62. People older than ~62 have almost 0 conversion."
   ]
  },
  {
   "cell_type": "code",
   "execution_count": 16,
   "id": "fc5735cc-c7e1-4473-a1af-72609337b693",
   "metadata": {},
   "outputs": [
    {
     "name": "stderr",
     "output_type": "stream",
     "text": [
      "C:\\Users\\journ\\anaconda3\\lib\\site-packages\\seaborn\\distributions.py:2557: FutureWarning: `distplot` is a deprecated function and will be removed in a future version. Please adapt your code to use either `displot` (a figure-level function with similar flexibility) or `histplot` (an axes-level function for histograms).\n",
      "  warnings.warn(msg, FutureWarning)\n",
      "C:\\Users\\journ\\anaconda3\\lib\\site-packages\\seaborn\\distributions.py:2557: FutureWarning: `distplot` is a deprecated function and will be removed in a future version. Please adapt your code to use either `displot` (a figure-level function with similar flexibility) or `histplot` (an axes-level function for histograms).\n",
      "  warnings.warn(msg, FutureWarning)\n"
     ]
    },
    {
     "data": {
      "image/png": "[encoded data removed]",
      "text/plain": [
       "<Figure size 864x288 with 2 Axes>"
      ]
     },
     "metadata": {
      "needs_background": "light"
     },
     "output_type": "display_data"
    }
   ],
   "source": [
    "# check conversion by page views:\n",
    "con_page = df[['total_pages_visited','converted']].groupby('total_pages_visited').mean().reset_index()\n",
    "hist_kws = {'histtype':'bar', 'edgecolor':'black', 'alpha':0.2}\n",
    "fig, ax = plt.subplots(nrows=1, ncols = 2, figsize = (12,4))\n",
    "sns.distplot(df[df.converted==0]['total_pages_visited'],label = 'not converted', ax = ax[0], hist_kws = hist_kws)\n",
    "sns.distplot(df[df.converted==1]['total_pages_visited'],label = 'converted', ax = ax[0], hist_kws = hist_kws)\n",
    "ax[0].set_title('Page View Distribution by Group', fontsize=16)\n",
    "ax[0].legend()\n",
    "\n",
    "ax[1].plot(con_page['total_pages_visited'], con_page['converted'],'.-')\n",
    "ax[1].set_title('Mean Conversion Rate vs Page View', fontsize = 16)\n",
    "ax[1].set_xlabel('Page View')\n",
    "ax[1].set_ylabel('Mean Conversion Rate')\n",
    "ax[1].grid(True)\n",
    "plt.show()"
   ]
  },
  {
   "cell_type": "markdown",
   "id": "da142c5a-400b-45d6-b7cb-6075cd80d75f",
   "metadata": {},
   "source": [
    "Key Observations:\n",
    "- After reading 20 pages, almost all users will be converted."
   ]
  },
  {
   "cell_type": "markdown",
   "id": "884db0ca-c814-4b8f-8b89-5967b1f1b6e1",
   "metadata": {},
   "source": [
    "### Part III: Random Forest Model to predict conversion date"
   ]
  },
  {
   "cell_type": "code",
   "execution_count": 18,
   "id": "32338d5c-b3f1-43e8-bd3e-17464c0c937d",
   "metadata": {},
   "outputs": [
    {
     "name": "stdout",
     "output_type": "stream",
     "text": [
      "Checking whether there is an H2O instance running at http://localhost:54321 . connected.\n"
     ]
    },
    {
     "data": {
      "text/html": [
       "<div style=\"overflow:auto\"><table style=\"width:50%\"><tr><td>H2O_cluster_uptime:</td>\n",
       "<td>4 hours 49 mins</td></tr>\n",
       "<tr><td>H2O_cluster_timezone:</td>\n",
       "<td>America/New_York</td></tr>\n",
       "<tr><td>H2O_data_parsing_timezone:</td>\n",
       "<td>UTC</td></tr>\n",
       "<tr><td>H2O_cluster_version:</td>\n",
       "<td>3.32.1.3</td></tr>\n",
       "<tr><td>H2O_cluster_version_age:</td>\n",
       "<td>27 days </td></tr>\n",
       "<tr><td>H2O_cluster_name:</td>\n",
       "<td>H2O_from_python_journ_7eomld</td></tr>\n",
       "<tr><td>H2O_cluster_total_nodes:</td>\n",
       "<td>1</td></tr>\n",
       "<tr><td>H2O_cluster_free_memory:</td>\n",
       "<td>1.880 Gb</td></tr>\n",
       "<tr><td>H2O_cluster_total_cores:</td>\n",
       "<td>8</td></tr>\n",
       "<tr><td>H2O_cluster_allowed_cores:</td>\n",
       "<td>8</td></tr>\n",
       "<tr><td>H2O_cluster_status:</td>\n",
       "<td>locked, healthy</td></tr>\n",
       "<tr><td>H2O_connection_url:</td>\n",
       "<td>http://localhost:54321</td></tr>\n",
       "<tr><td>H2O_connection_proxy:</td>\n",
       "<td>{\"http\": null, \"https\": null}</td></tr>\n",
       "<tr><td>H2O_internal_security:</td>\n",
       "<td>False</td></tr>\n",
       "<tr><td>H2O_API_Extensions:</td>\n",
       "<td>Amazon S3, Algos, AutoML, Core V3, TargetEncoder, Core V4</td></tr>\n",
       "<tr><td>Python_version:</td>\n",
       "<td>3.8.8 final</td></tr></table></div>"
      ],
      "text/plain": [
       "--------------------------  ---------------------------------------------------------\n",
       "H2O_cluster_uptime:         4 hours 49 mins\n",
       "H2O_cluster_timezone:       America/New_York\n",
       "H2O_data_parsing_timezone:  UTC\n",
       "H2O_cluster_version:        3.32.1.3\n",
       "H2O_cluster_version_age:    27 days\n",
       "H2O_cluster_name:           H2O_from_python_journ_7eomld\n",
       "H2O_cluster_total_nodes:    1\n",
       "H2O_cluster_free_memory:    1.880 Gb\n",
       "H2O_cluster_total_cores:    8\n",
       "H2O_cluster_allowed_cores:  8\n",
       "H2O_cluster_status:         locked, healthy\n",
       "H2O_connection_url:         http://localhost:54321\n",
       "H2O_connection_proxy:       {\"http\": null, \"https\": null}\n",
       "H2O_internal_security:      False\n",
       "H2O_API_Extensions:         Amazon S3, Algos, AutoML, Core V3, TargetEncoder, Core V4\n",
       "Python_version:             3.8.8 final\n",
       "--------------------------  ---------------------------------------------------------"
      ]
     },
     "metadata": {},
     "output_type": "display_data"
    }
   ],
   "source": [
    "# Initialize H2O cluster\n",
    "h2o.init()\n",
    "h2o.remove_all()"
   ]
  },
  {
   "cell_type": "code",
   "execution_count": 19,
   "id": "9b85d892-3858-4967-8257-50287a090762",
   "metadata": {},
   "outputs": [],
   "source": [
    "# We decided to incorporate all features into the model:\n",
    "- new_user, age, page visited, country, source"
   ]
  },
  {
   "cell_type": "code",
   "execution_count": 20,
   "id": "03cf3281-8145-4918-82b4-a7753e8c06b2",
   "metadata": {},
   "outputs": [
    {
     "name": "stdout",
     "output_type": "stream",
     "text": [
      "Parse progress: |█████████████████████████████████████████████████████████| 100%\n"
     ]
    }
   ],
   "source": [
    "h2o_df = H2OFrame(df)\n",
    "# transform categorical factors\n",
    "h2o_df['new_user'] = h2o_df['new_user'].asfactor()\n",
    "h2o_df['converted'] = h2o_df['converted'].asfactor()"
   ]
  },
  {
   "cell_type": "code",
   "execution_count": 22,
   "id": "99770776-1eb9-4bd8-9b8f-3120c9c27cc5",
   "metadata": {},
   "outputs": [
    {
     "data": {
      "text/html": [
       "<table>\n",
       "<thead>\n",
       "<tr><th>       </th><th>country  </th><th>age              </th><th>new_user  </th><th>source  </th><th>total_pages_visited  </th><th>converted  </th></tr>\n",
       "</thead>\n",
       "<tbody>\n",
       "<tr><td>type   </td><td>enum     </td><td>int              </td><td>enum      </td><td>enum    </td><td>int                  </td><td>enum       </td></tr>\n",
       "<tr><td>mins   </td><td>         </td><td>17.0             </td><td>          </td><td>        </td><td>1.0                  </td><td>           </td></tr>\n",
       "<tr><td>mean   </td><td>         </td><td>30.5693110013347 </td><td>          </td><td>        </td><td>4.872918234777034    </td><td>           </td></tr>\n",
       "<tr><td>maxs   </td><td>         </td><td>79.0             </td><td>          </td><td>        </td><td>29.0                 </td><td>           </td></tr>\n",
       "<tr><td>sigma  </td><td>         </td><td>8.268957596421474</td><td>          </td><td>        </td><td>3.3410533442156267   </td><td>           </td></tr>\n",
       "<tr><td>zeros  </td><td>         </td><td>0                </td><td>          </td><td>        </td><td>0                    </td><td>           </td></tr>\n",
       "<tr><td>missing</td><td>0        </td><td>0                </td><td>0         </td><td>0       </td><td>0                    </td><td>0          </td></tr>\n",
       "<tr><td>0      </td><td>UK       </td><td>25.0             </td><td>1         </td><td>Ads     </td><td>1.0                  </td><td>0          </td></tr>\n",
       "<tr><td>1      </td><td>US       </td><td>23.0             </td><td>1         </td><td>Seo     </td><td>5.0                  </td><td>0          </td></tr>\n",
       "<tr><td>2      </td><td>US       </td><td>28.0             </td><td>1         </td><td>Seo     </td><td>4.0                  </td><td>0          </td></tr>\n",
       "<tr><td>3      </td><td>China    </td><td>39.0             </td><td>1         </td><td>Seo     </td><td>5.0                  </td><td>0          </td></tr>\n",
       "<tr><td>4      </td><td>US       </td><td>30.0             </td><td>1         </td><td>Seo     </td><td>6.0                  </td><td>0          </td></tr>\n",
       "<tr><td>5      </td><td>US       </td><td>31.0             </td><td>0         </td><td>Seo     </td><td>1.0                  </td><td>0          </td></tr>\n",
       "<tr><td>6      </td><td>China    </td><td>27.0             </td><td>1         </td><td>Seo     </td><td>4.0                  </td><td>0          </td></tr>\n",
       "<tr><td>7      </td><td>US       </td><td>23.0             </td><td>0         </td><td>Ads     </td><td>4.0                  </td><td>0          </td></tr>\n",
       "<tr><td>8      </td><td>UK       </td><td>29.0             </td><td>0         </td><td>Direct  </td><td>4.0                  </td><td>0          </td></tr>\n",
       "<tr><td>9      </td><td>US       </td><td>25.0             </td><td>0         </td><td>Ads     </td><td>2.0                  </td><td>0          </td></tr>\n",
       "</tbody>\n",
       "</table>"
      ]
     },
     "metadata": {},
     "output_type": "display_data"
    }
   ],
   "source": [
    "h2o_df.summary()"
   ]
  },
  {
   "cell_type": "code",
   "execution_count": 27,
   "id": "2bffbcb1-9ec7-4c89-8ac7-277e22ebae1e",
   "metadata": {},
   "outputs": [],
   "source": [
    "df2 = h2o_df['converted'].stratified_split(test_frac = 0.25, seed = 42)\n",
    "train = h2o_df[df2 == 'train']\n",
    "test = h2o_df[df2 == 'test']\n",
    "feature = ['country', 'age', 'new_user', 'source', 'total_pages_visited']\n",
    "target = 'converted'"
   ]
  },
  {
   "cell_type": "code",
   "execution_count": 29,
   "id": "b04c17b6-82a8-47d8-8665-b8750c4d808a",
   "metadata": {},
   "outputs": [
    {
     "name": "stdout",
     "output_type": "stream",
     "text": [
      "drf Model Build progress: |███████████████████████████████████████████████| 100%\n"
     ]
    }
   ],
   "source": [
    "rf = H2ORandomForestEstimator(balance_classes = True, ntrees = 100, max_depth = 20, mtries = -1, seed = 42, score_each_iteration = True)\n",
    "rf.train(x = feature, y = target, training_frame = train)"
   ]
  },
  {
   "cell_type": "code",
   "execution_count": 31,
   "id": "a4dd1e5e-9bfb-4767-9ffb-f11135d67e6a",
   "metadata": {},
   "outputs": [
    {
     "data": {
      "image/png": "[encoded data removed]",
      "text/plain": [
       "<Figure size 720x576 with 1 Axes>"
      ]
     },
     "metadata": {
      "needs_background": "light"
     },
     "output_type": "display_data"
    }
   ],
   "source": [
    "fea_importance = rf.varimp(use_pandas = True)\n",
    "fig, ax = plt.subplots(figsize = (10, 8))\n",
    "sns.barplot(x = 'scaled_importance', y = 'variable', data = fea_importance)\n",
    "plt.show()"
   ]
  },
  {
   "cell_type": "code",
   "execution_count": 34,
   "id": "a2c01b87-6976-404b-94fe-7a698d110ee0",
   "metadata": {},
   "outputs": [
    {
     "name": "stdout",
     "output_type": "stream",
     "text": [
      "drf prediction progress: |████████████████████████████████████████████████| 100%\n",
      "drf prediction progress: |████████████████████████████████████████████████| 100%\n"
     ]
    }
   ],
   "source": [
    "train_true = train.as_data_frame()['converted'].values\n",
    "test_true = test.as_data_frame()['converted'].values\n",
    "train_p = rf.predict(train).as_data_frame()['p1'].values\n",
    "test_p = rf.predict(test).as_data_frame()['p1'].values\n",
    "\n",
    "train_fp, train_tp,_ = roc_curve(train_true, train_p)\n",
    "test_fp, test_tp,_ = roc_curve(test_true, test_p)\n",
    "train_auc = np.round(auc(train_fp, train_tp),3)\n",
    "test_auc = np.round(auc(test_fp,test_tp),3)"
   ]
  },
  {
   "cell_type": "code",
   "execution_count": 36,
   "id": "d61c95ab-5089-4b37-bc48-999ccb540f23",
   "metadata": {},
   "outputs": [
    {
     "name": "stdout",
     "output_type": "stream",
     "text": [
      "              precision    recall  f1-score   support\n",
      "\n",
      "           0       0.99      1.00      0.99     76500\n",
      "           1       0.84      0.63      0.72      2550\n",
      "\n",
      "    accuracy                           0.98     79050\n",
      "   macro avg       0.91      0.81      0.86     79050\n",
      "weighted avg       0.98      0.98      0.98     79050\n",
      "\n"
     ]
    }
   ],
   "source": [
    "# Classification report\n",
    "print(classification_report(y_true = test_true, y_pred = (test_p > 0.5).astype(int)))"
   ]
  },
  {
   "cell_type": "code",
   "execution_count": 38,
   "id": "30590f7d-93ef-4c1f-9779-73cf18b0704a",
   "metadata": {},
   "outputs": [
    {
     "data": {
      "image/png": "[encoded data removed]",
      "text/plain": [
       "<Figure size 576x432 with 1 Axes>"
      ]
     },
     "metadata": {
      "needs_background": "light"
     },
     "output_type": "display_data"
    }
   ],
   "source": [
    "fig, ax = plt.subplots(figsize=(8, 6))\n",
    "ax.plot(train_fp, train_tp, label='Train AUC: ' + str(train_auc))\n",
    "ax.plot(test_fp, test_tp, label='Test AUC: ' + str(test_auc))\n",
    "ax.set_xlabel('False Positive Rate', fontsize=12)\n",
    "ax.set_ylabel('True Positive Rate', fontsize=12)\n",
    "ax.legend(fontsize=12)\n",
    "plt.show()"
   ]
  },
  {
   "cell_type": "code",
   "execution_count": 40,
   "id": "d6596b1d-205f-48e4-86f6-ccbf72dcdefa",
   "metadata": {},
   "outputs": [
    {
     "name": "stdout",
     "output_type": "stream",
     "text": [
      "PartialDependencePlot progress: |█████████████████████████████████████████| 100%\n"
     ]
    },
    {
     "name": "stderr",
     "output_type": "stream",
     "text": [
      "C:\\Users\\journ\\anaconda3\\lib\\site-packages\\h2o\\model\\model_base.py:1391: MatplotlibDeprecationWarning: Since 3.2, the parameter *where* must have the same size as [0 1 2 3] in fill_betweenx(). This will become an error two minor releases later.\n",
      "  axs.fill_between(x, lower, upper, where=lower < upper, alpha=0.1, interpolate=False)\n",
      "C:\\Users\\journ\\anaconda3\\lib\\site-packages\\h2o\\model\\model_base.py:1391: MatplotlibDeprecationWarning: Since 3.2, the parameter *where* must have the same size as [17.0 20.263157894736842 23.526315789473685 26.789473684210527\n",
      " 30.05263157894737 33.315789473684205 36.578947368421055 39.84210526315789\n",
      " 43.10526315789474 46.368421052631575 49.63157894736842 52.89473684210526\n",
      " 56.1578947368421 59.421052631578945 62.68421052631579 65.94736842105263\n",
      " 69.21052631578948 72.47368421052632 75.73684210526315 79.0] in fill_betweenx(). This will become an error two minor releases later.\n",
      "  axs.fill_between(x, lower, upper, where=lower < upper, alpha=0.1, interpolate=False)\n",
      "C:\\Users\\journ\\anaconda3\\lib\\site-packages\\h2o\\model\\model_base.py:1391: MatplotlibDeprecationWarning: Since 3.2, the parameter *where* must have the same size as [0 1] in fill_betweenx(). This will become an error two minor releases later.\n",
      "  axs.fill_between(x, lower, upper, where=lower < upper, alpha=0.1, interpolate=False)\n",
      "C:\\Users\\journ\\anaconda3\\lib\\site-packages\\h2o\\model\\model_base.py:1391: MatplotlibDeprecationWarning: Since 3.2, the parameter *where* must have the same size as [0 1 2] in fill_betweenx(). This will become an error two minor releases later.\n",
      "  axs.fill_between(x, lower, upper, where=lower < upper, alpha=0.1, interpolate=False)\n",
      "C:\\Users\\journ\\anaconda3\\lib\\site-packages\\h2o\\model\\model_base.py:1391: MatplotlibDeprecationWarning: Since 3.2, the parameter *where* must have the same size as [1.0 2.473684210526316 3.9473684210526314 5.421052631578947\n",
      " 6.894736842105263 8.368421052631579 9.842105263157894 11.31578947368421\n",
      " 12.789473684210526 14.26315789473684 15.736842105263158\n",
      " 17.210526315789473 18.684210526315788 20.157894736842103\n",
      " 21.63157894736842 23.105263157894736 24.57894736842105 26.052631578947366\n",
      " 27.52631578947368 29.0] in fill_betweenx(). This will become an error two minor releases later.\n",
      "  axs.fill_between(x, lower, upper, where=lower < upper, alpha=0.1, interpolate=False)\n"
     ]
    },
    {
     "data": {
      "image/png": "[encoded data removed]",
      "text/plain": [
       "<Figure size 576x1080 with 5 Axes>"
      ]
     },
     "metadata": {
      "needs_background": "light"
     },
     "output_type": "display_data"
    }
   ],
   "source": [
    "_ = rf.partial_plot(train, cols=feature, figsize=(8, 15))"
   ]
  },
  {
   "cell_type": "markdown",
   "id": "0b53050d-7610-47be-a701-8629e744a23e",
   "metadata": {},
   "source": [
    "### Part IV: Sklearn Random Forest\n"
   ]
  },
  {
   "cell_type": "code",
   "execution_count": 64,
   "id": "b7e0026b-1f81-4671-9618-e09a1a34bff0",
   "metadata": {},
   "outputs": [
    {
     "data": {
      "text/html": [
       "<div>\n",
       "<style scoped>\n",
       "    .dataframe tbody tr th:only-of-type {\n",
       "        vertical-align: middle;\n",
       "    }\n",
       "\n",
       "    .dataframe tbody tr th {\n",
       "        vertical-align: top;\n",
       "    }\n",
       "\n",
       "    .dataframe thead th {\n",
       "        text-align: right;\n",
       "    }\n",
       "</style>\n",
       "<table border=\"1\" class=\"dataframe\">\n",
       "  <thead>\n",
       "    <tr style=\"text-align: right;\">\n",
       "      <th></th>\n",
       "      <th>age</th>\n",
       "      <th>new_user</th>\n",
       "      <th>total_pages_visited</th>\n",
       "      <th>country_China</th>\n",
       "      <th>country_Germany</th>\n",
       "      <th>country_UK</th>\n",
       "      <th>country_US</th>\n",
       "      <th>source_Ads</th>\n",
       "      <th>source_Direct</th>\n",
       "      <th>source_Seo</th>\n",
       "    </tr>\n",
       "  </thead>\n",
       "  <tbody>\n",
       "    <tr>\n",
       "      <th>0</th>\n",
       "      <td>25</td>\n",
       "      <td>1</td>\n",
       "      <td>1</td>\n",
       "      <td>0</td>\n",
       "      <td>0</td>\n",
       "      <td>1</td>\n",
       "      <td>0</td>\n",
       "      <td>1</td>\n",
       "      <td>0</td>\n",
       "      <td>0</td>\n",
       "    </tr>\n",
       "    <tr>\n",
       "      <th>1</th>\n",
       "      <td>23</td>\n",
       "      <td>1</td>\n",
       "      <td>5</td>\n",
       "      <td>0</td>\n",
       "      <td>0</td>\n",
       "      <td>0</td>\n",
       "      <td>1</td>\n",
       "      <td>0</td>\n",
       "      <td>0</td>\n",
       "      <td>1</td>\n",
       "    </tr>\n",
       "    <tr>\n",
       "      <th>2</th>\n",
       "      <td>28</td>\n",
       "      <td>1</td>\n",
       "      <td>4</td>\n",
       "      <td>0</td>\n",
       "      <td>0</td>\n",
       "      <td>0</td>\n",
       "      <td>1</td>\n",
       "      <td>0</td>\n",
       "      <td>0</td>\n",
       "      <td>1</td>\n",
       "    </tr>\n",
       "    <tr>\n",
       "      <th>3</th>\n",
       "      <td>39</td>\n",
       "      <td>1</td>\n",
       "      <td>5</td>\n",
       "      <td>1</td>\n",
       "      <td>0</td>\n",
       "      <td>0</td>\n",
       "      <td>0</td>\n",
       "      <td>0</td>\n",
       "      <td>0</td>\n",
       "      <td>1</td>\n",
       "    </tr>\n",
       "    <tr>\n",
       "      <th>4</th>\n",
       "      <td>30</td>\n",
       "      <td>1</td>\n",
       "      <td>6</td>\n",
       "      <td>0</td>\n",
       "      <td>0</td>\n",
       "      <td>0</td>\n",
       "      <td>1</td>\n",
       "      <td>0</td>\n",
       "      <td>0</td>\n",
       "      <td>1</td>\n",
       "    </tr>\n",
       "    <tr>\n",
       "      <th>...</th>\n",
       "      <td>...</td>\n",
       "      <td>...</td>\n",
       "      <td>...</td>\n",
       "      <td>...</td>\n",
       "      <td>...</td>\n",
       "      <td>...</td>\n",
       "      <td>...</td>\n",
       "      <td>...</td>\n",
       "      <td>...</td>\n",
       "      <td>...</td>\n",
       "    </tr>\n",
       "    <tr>\n",
       "      <th>316195</th>\n",
       "      <td>26</td>\n",
       "      <td>1</td>\n",
       "      <td>9</td>\n",
       "      <td>0</td>\n",
       "      <td>0</td>\n",
       "      <td>0</td>\n",
       "      <td>1</td>\n",
       "      <td>1</td>\n",
       "      <td>0</td>\n",
       "      <td>0</td>\n",
       "    </tr>\n",
       "    <tr>\n",
       "      <th>316196</th>\n",
       "      <td>27</td>\n",
       "      <td>1</td>\n",
       "      <td>6</td>\n",
       "      <td>0</td>\n",
       "      <td>0</td>\n",
       "      <td>0</td>\n",
       "      <td>1</td>\n",
       "      <td>0</td>\n",
       "      <td>1</td>\n",
       "      <td>0</td>\n",
       "    </tr>\n",
       "    <tr>\n",
       "      <th>316197</th>\n",
       "      <td>25</td>\n",
       "      <td>0</td>\n",
       "      <td>4</td>\n",
       "      <td>1</td>\n",
       "      <td>0</td>\n",
       "      <td>0</td>\n",
       "      <td>0</td>\n",
       "      <td>1</td>\n",
       "      <td>0</td>\n",
       "      <td>0</td>\n",
       "    </tr>\n",
       "    <tr>\n",
       "      <th>316198</th>\n",
       "      <td>22</td>\n",
       "      <td>0</td>\n",
       "      <td>4</td>\n",
       "      <td>0</td>\n",
       "      <td>0</td>\n",
       "      <td>0</td>\n",
       "      <td>1</td>\n",
       "      <td>0</td>\n",
       "      <td>0</td>\n",
       "      <td>1</td>\n",
       "    </tr>\n",
       "    <tr>\n",
       "      <th>316199</th>\n",
       "      <td>24</td>\n",
       "      <td>0</td>\n",
       "      <td>4</td>\n",
       "      <td>0</td>\n",
       "      <td>0</td>\n",
       "      <td>1</td>\n",
       "      <td>0</td>\n",
       "      <td>1</td>\n",
       "      <td>0</td>\n",
       "      <td>0</td>\n",
       "    </tr>\n",
       "  </tbody>\n",
       "</table>\n",
       "<p>316198 rows × 10 columns</p>\n",
       "</div>"
      ],
      "text/plain": [
       "        age  new_user  total_pages_visited  country_China  country_Germany  \\\n",
       "0        25         1                    1              0                0   \n",
       "1        23         1                    5              0                0   \n",
       "2        28         1                    4              0                0   \n",
       "3        39         1                    5              1                0   \n",
       "4        30         1                    6              0                0   \n",
       "...     ...       ...                  ...            ...              ...   \n",
       "316195   26         1                    9              0                0   \n",
       "316196   27         1                    6              0                0   \n",
       "316197   25         0                    4              1                0   \n",
       "316198   22         0                    4              0                0   \n",
       "316199   24         0                    4              0                0   \n",
       "\n",
       "        country_UK  country_US  source_Ads  source_Direct  source_Seo  \n",
       "0                1           0           1              0           0  \n",
       "1                0           1           0              0           1  \n",
       "2                0           1           0              0           1  \n",
       "3                0           0           0              0           1  \n",
       "4                0           1           0              0           1  \n",
       "...            ...         ...         ...            ...         ...  \n",
       "316195           0           1           1              0           0  \n",
       "316196           0           1           0              1           0  \n",
       "316197           0           0           1              0           0  \n",
       "316198           0           1           0              0           1  \n",
       "316199           1           0           1              0           0  \n",
       "\n",
       "[316198 rows x 10 columns]"
      ]
     },
     "execution_count": 64,
     "metadata": {},
     "output_type": "execute_result"
    }
   ],
   "source": [
    "# one hot encoding\n",
    "feature = ['country', 'age', 'new_user', 'source', 'total_pages_visited']\n",
    "fea1 = df[feature]\n",
    "fea1 = pd.get_dummies(fea1)\n",
    "fea1"
   ]
  },
  {
   "cell_type": "code",
   "execution_count": 43,
   "id": "07d6226d-58f8-47ff-87e7-f6edcb13a164",
   "metadata": {},
   "outputs": [],
   "source": [
    "target = np.array(df['converted'])\n",
    "fea = np.array(fea)"
   ]
  },
  {
   "cell_type": "code",
   "execution_count": 47,
   "id": "bf750d96-fb53-47fc-92ae-50cd2423f02b",
   "metadata": {},
   "outputs": [],
   "source": [
    "X_train, X_test, y_train,y_test = train_test_split(fea, target, test_size = 0.25, random_state = 42)"
   ]
  },
  {
   "cell_type": "code",
   "execution_count": 50,
   "id": "3f336cfa-ded6-4a22-8f69-ffa8f6dbe3a8",
   "metadata": {},
   "outputs": [
    {
     "data": {
      "text/plain": [
       "RandomForestClassifier(max_depth=20, random_state=42)"
      ]
     },
     "execution_count": 50,
     "metadata": {},
     "output_type": "execute_result"
    }
   ],
   "source": [
    "# fit model\n",
    "rf2 = RandomForestClassifier(n_estimators = 100, random_state = 42, max_depth = 20)\n",
    "rf2.fit(X_train, y_train)"
   ]
  },
  {
   "cell_type": "code",
   "execution_count": 57,
   "id": "5d7e70a9-d8fd-4a98-a6f1-9cf9efc13b97",
   "metadata": {},
   "outputs": [
    {
     "name": "stdout",
     "output_type": "stream",
     "text": [
      "              precision    recall  f1-score   support\n",
      "\n",
      "           0       0.99      0.99      0.99     76553\n",
      "           1       0.81      0.69      0.74      2497\n",
      "\n",
      "    accuracy                           0.99     79050\n",
      "   macro avg       0.90      0.84      0.87     79050\n",
      "weighted avg       0.98      0.99      0.98     79050\n",
      "\n"
     ]
    }
   ],
   "source": [
    "# confusion matrix\n",
    "ypred = rf2.predict(X_test)\n",
    "# Confusion matrix: tells us Type I and Type II errors. \n",
    "print(classification_report(y_true = y_test, y_pred = (ypred > 0.5).astype(int)))"
   ]
  },
  {
   "cell_type": "code",
   "execution_count": 60,
   "id": "fdd8c4f9-2146-428f-b323-340501d115a8",
   "metadata": {},
   "outputs": [
    {
     "name": "stdout",
     "output_type": "stream",
     "text": [
      "0.9532846467084422\n"
     ]
    }
   ],
   "source": [
    "print(roc_auc_score(y_test,rf2.predict_proba(X_test)[:, 1]))"
   ]
  },
  {
   "cell_type": "code",
   "execution_count": 65,
   "id": "4c593bc0-2ad2-4382-8b5a-e9b1aacfa9f9",
   "metadata": {},
   "outputs": [
    {
     "name": "stdout",
     "output_type": "stream",
     "text": [
      "Variable: total_pages_visited  Importance: 0.81\n",
      "Variable: age                  Importance: 0.11\n",
      "Variable: new_user             Importance: 0.04\n",
      "Variable: country_China        Importance: 0.02\n",
      "Variable: country_Germany      Importance: 0.0\n",
      "Variable: country_UK           Importance: 0.0\n",
      "Variable: country_US           Importance: 0.0\n",
      "Variable: source_Ads           Importance: 0.0\n",
      "Variable: source_Direct        Importance: 0.0\n",
      "Variable: source_Seo           Importance: 0.0\n"
     ]
    },
    {
     "data": {
      "text/plain": [
       "[None, None, None, None, None, None, None, None, None, None]"
      ]
     },
     "execution_count": 65,
     "metadata": {},
     "output_type": "execute_result"
    }
   ],
   "source": [
    "# variable importance\n",
    "# Get numerical feature importances\n",
    "importances = list(rf2.feature_importances_)\n",
    "# List of tuples with variable and importance\n",
    "feature_importances = [(f, round(importance, 2)) for f, importance in zip(fea1.columns, importances)]\n",
    "# Sort the feature importances by most important first\n",
    "feature_importances = sorted(feature_importances, key = lambda x: x[1], reverse = True)\n",
    "# Print out the feature and importances \n",
    "[print('Variable: {:20} Importance: {}'.format(*pair)) for pair in feature_importances]"
   ]
  },
  {
   "cell_type": "code",
   "execution_count": 66,
   "id": "f2642fa8-a151-4591-973c-af154f56e085",
   "metadata": {},
   "outputs": [
    {
     "data": {
      "text/plain": [
       "[('total_pages_visited', 0.81),\n",
       " ('age', 0.11),\n",
       " ('new_user', 0.04),\n",
       " ('country_China', 0.02),\n",
       " ('country_Germany', 0.0),\n",
       " ('country_UK', 0.0),\n",
       " ('country_US', 0.0),\n",
       " ('source_Ads', 0.0),\n",
       " ('source_Direct', 0.0),\n",
       " ('source_Seo', 0.0)]"
      ]
     },
     "execution_count": 66,
     "metadata": {},
     "output_type": "execute_result"
    }
   ],
   "source": [
    "feature_importances"
   ]
  },
  {
   "cell_type": "code",
   "execution_count": 74,
   "id": "a0ee32bb-2b26-431d-a113-a194c20b92ce",
   "metadata": {},
   "outputs": [
    {
     "data": {
      "image/png": "[encoded data removed]",
      "text/plain": [
       "<Figure size 864x288 with 1 Axes>"
      ]
     },
     "metadata": {
      "needs_background": "light"
     },
     "output_type": "display_data"
    }
   ],
   "source": [
    "forest_importances = pd.DataFrame(importances, index=fea1.columns).reset_index()\n",
    "forest_importances.rename(columns={\"index\": \"feature\", 0: \"importance\"}, inplace = True)\n",
    "forest_importances\n",
    "fig, ax = plt.subplots(figsize = (12,4))\n",
    "sns.barplot(x = 'feature', y = 'importance', data = forest_importances, ax=ax)\n",
    "ax.set_title(\"Feature importances\")\n",
    "ax.set_ylabel(\"Mean decrease in impurity\")\n",
    "fig.tight_layout()"
   ]
  },
  {
   "cell_type": "markdown",
   "id": "a41f46d4-5007-4ef1-b64f-cfcef7a55392",
   "metadata": {},
   "source": [
    "### Part V: Logistic Regression"
   ]
  },
  {
   "cell_type": "code",
   "execution_count": 77,
   "id": "aa4f5623-86e9-4283-bc80-816330f01b55",
   "metadata": {},
   "outputs": [
    {
     "name": "stderr",
     "output_type": "stream",
     "text": [
      "C:\\Users\\journ\\anaconda3\\lib\\site-packages\\sklearn\\linear_model\\_logistic.py:763: ConvergenceWarning: lbfgs failed to converge (status=1):\n",
      "STOP: TOTAL NO. of ITERATIONS REACHED LIMIT.\n",
      "\n",
      "Increase the number of iterations (max_iter) or scale the data as shown in:\n",
      "    https://scikit-learn.org/stable/modules/preprocessing.html\n",
      "Please also refer to the documentation for alternative solver options:\n",
      "    https://scikit-learn.org/stable/modules/linear_model.html#logistic-regression\n",
      "  n_iter_i = _check_optimize_result(\n"
     ]
    },
    {
     "name": "stdout",
     "output_type": "stream",
     "text": [
      "The model intercept is [-5.04428066]\n",
      "The model coefficient is [[-0.07466556 -1.74171969  0.76047793 -3.78252594 -0.0093834  -0.21168334\n",
      "  -0.59650515 -1.47693366 -1.64272941 -1.48043476]]\n"
     ]
    }
   ],
   "source": [
    "lr = LogisticRegression()\n",
    "lr.fit(X_train, y_train)\n",
    "print('The model intercept is', lr.intercept_)\n",
    "print('The model coefficient is', lr.coef_)"
   ]
  },
  {
   "cell_type": "code",
   "execution_count": 78,
   "id": "78533b7d-ce8c-4eec-8a34-82b0fc06fdd9",
   "metadata": {},
   "outputs": [
    {
     "name": "stdout",
     "output_type": "stream",
     "text": [
      "              precision    recall  f1-score   support\n",
      "\n",
      "           0       0.99      1.00      0.99     76553\n",
      "           1       0.86      0.70      0.77      2497\n",
      "\n",
      "    accuracy                           0.99     79050\n",
      "   macro avg       0.92      0.85      0.88     79050\n",
      "weighted avg       0.99      0.99      0.99     79050\n",
      "\n"
     ]
    }
   ],
   "source": [
    "# confusion matrix\n",
    "ypred = lr.predict(X_test)\n",
    "# Confusion matrix: tells us Type I and Type II errors. \n",
    "print(classification_report(y_true = y_test, y_pred = (ypred > 0.5).astype(int)))"
   ]
  },
  {
   "cell_type": "code",
   "execution_count": 79,
   "id": "af0d3d4e-7dc4-48b0-8156-5151cf6dd72e",
   "metadata": {},
   "outputs": [
    {
     "name": "stdout",
     "output_type": "stream",
     "text": [
      "0.986260042036205\n"
     ]
    }
   ],
   "source": [
    "print(roc_auc_score(y_test,lr.predict_proba(X_test)[:, 1]))"
   ]
  },
  {
   "cell_type": "code",
   "execution_count": 81,
   "id": "2b1cd72f-36e4-43f7-87be-1c93b4abe60f",
   "metadata": {},
   "outputs": [
    {
     "data": {
      "text/html": [
       "<div>\n",
       "<style scoped>\n",
       "    .dataframe tbody tr th:only-of-type {\n",
       "        vertical-align: middle;\n",
       "    }\n",
       "\n",
       "    .dataframe tbody tr th {\n",
       "        vertical-align: top;\n",
       "    }\n",
       "\n",
       "    .dataframe thead th {\n",
       "        text-align: right;\n",
       "    }\n",
       "</style>\n",
       "<table border=\"1\" class=\"dataframe\">\n",
       "  <thead>\n",
       "    <tr style=\"text-align: right;\">\n",
       "      <th></th>\n",
       "      <th>name</th>\n",
       "      <th>coef</th>\n",
       "      <th>importances</th>\n",
       "    </tr>\n",
       "  </thead>\n",
       "  <tbody>\n",
       "    <tr>\n",
       "      <th>3</th>\n",
       "      <td>country_China</td>\n",
       "      <td>-3.782526</td>\n",
       "      <td>3.782526</td>\n",
       "    </tr>\n",
       "    <tr>\n",
       "      <th>1</th>\n",
       "      <td>new_user</td>\n",
       "      <td>-1.741720</td>\n",
       "      <td>1.741720</td>\n",
       "    </tr>\n",
       "    <tr>\n",
       "      <th>8</th>\n",
       "      <td>source_Direct</td>\n",
       "      <td>-1.642729</td>\n",
       "      <td>1.642729</td>\n",
       "    </tr>\n",
       "    <tr>\n",
       "      <th>9</th>\n",
       "      <td>source_Seo</td>\n",
       "      <td>-1.480435</td>\n",
       "      <td>1.480435</td>\n",
       "    </tr>\n",
       "    <tr>\n",
       "      <th>7</th>\n",
       "      <td>source_Ads</td>\n",
       "      <td>-1.476934</td>\n",
       "      <td>1.476934</td>\n",
       "    </tr>\n",
       "    <tr>\n",
       "      <th>2</th>\n",
       "      <td>total_pages_visited</td>\n",
       "      <td>0.760478</td>\n",
       "      <td>0.760478</td>\n",
       "    </tr>\n",
       "    <tr>\n",
       "      <th>6</th>\n",
       "      <td>country_US</td>\n",
       "      <td>-0.596505</td>\n",
       "      <td>0.596505</td>\n",
       "    </tr>\n",
       "    <tr>\n",
       "      <th>5</th>\n",
       "      <td>country_UK</td>\n",
       "      <td>-0.211683</td>\n",
       "      <td>0.211683</td>\n",
       "    </tr>\n",
       "    <tr>\n",
       "      <th>0</th>\n",
       "      <td>age</td>\n",
       "      <td>-0.074666</td>\n",
       "      <td>0.074666</td>\n",
       "    </tr>\n",
       "    <tr>\n",
       "      <th>4</th>\n",
       "      <td>country_Germany</td>\n",
       "      <td>-0.009383</td>\n",
       "      <td>0.009383</td>\n",
       "    </tr>\n",
       "  </tbody>\n",
       "</table>\n",
       "</div>"
      ],
      "text/plain": [
       "                  name      coef  importances\n",
       "3        country_China -3.782526     3.782526\n",
       "1             new_user -1.741720     1.741720\n",
       "8        source_Direct -1.642729     1.642729\n",
       "9           source_Seo -1.480435     1.480435\n",
       "7           source_Ads -1.476934     1.476934\n",
       "2  total_pages_visited  0.760478     0.760478\n",
       "6           country_US -0.596505     0.596505\n",
       "5           country_UK -0.211683     0.211683\n",
       "0                  age -0.074666     0.074666\n",
       "4      country_Germany -0.009383     0.009383"
      ]
     },
     "execution_count": 81,
     "metadata": {},
     "output_type": "execute_result"
    }
   ],
   "source": [
    "feat_importances = pd.DataFrame({\"name\":fea1.columns,\"coef\":lr.coef_[0]})\n",
    "feat_importances = feat_importances[['name','coef']]# reorder the columns\n",
    "feat_importances['importances'] = np.abs(feat_importances['coef'] )\n",
    "feat_importances.sort_values(by=\"importances\",inplace=True,ascending=False)\n",
    "feat_importances"
   ]
  },
  {
   "cell_type": "code",
   "execution_count": 82,
   "id": "21270a17-6193-4f9c-bf95-fafae3ad9b6f",
   "metadata": {},
   "outputs": [
    {
     "name": "stdout",
     "output_type": "stream",
     "text": [
      "H2O session _sid_af94 closed.\n"
     ]
    }
   ],
   "source": [
    "h2o.cluster().shutdown()"
   ]
  },
  {
   "cell_type": "code",
   "execution_count": null,
   "id": "4079d323-45aa-43a7-9cba-e32fc4ae7991",
   "metadata": {},
   "outputs": [],
   "source": []
  }
 ],
 "metadata": {
  "kernelspec": {
   "display_name": "Python 3",
   "language": "python",
   "name": "python3"
  },
  "language_info": {
   "codemirror_mode": {
    "name": "ipython",
    "version": 3
   },
   "file_extension": ".py",
   "mimetype": "text/x-python",
   "name": "python",
   "nbconvert_exporter": "python",
   "pygments_lexer": "ipython3",
   "version": "3.8.8"
  }
 },
 "nbformat": 4,
 "nbformat_minor": 5
}
